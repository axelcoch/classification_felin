{
  "cells": [
    {
      "cell_type": "markdown",
      "metadata": {
        "id": "OKdHGb8jlpb-"
      },
      "source": [
        "# Classifieur de félin"
      ]
    },
    {
      "cell_type": "markdown",
      "metadata": {
        "id": "C16207wRlpcC"
      },
      "source": [
        "### Import"
      ]
    },
    {
      "cell_type": "code",
      "execution_count": 16,
      "metadata": {
        "id": "tsmCgOwalpcD"
      },
      "outputs": [],
      "source": [
        "import os\n",
        "import cv2\n",
        "import numpy as np\n",
        "import matplotlib.pyplot as plt\n",
        "import pandas as pd\n",
        "from tensorflow import keras\n",
        "from sklearn.model_selection import train_test_split\n",
        "from keras.preprocessing.image import ImageDataGenerator\n",
        "from keras.applications import NASNetMobile\n",
        "from keras.utils import to_categorical\n"
      ]
    },
    {
      "cell_type": "code",
      "source": [
        "from google.colab import drive\n",
        "drive.mount('/content/drive')"
      ],
      "metadata": {
        "colab": {
          "base_uri": "https://localhost:8080/"
        },
        "id": "oyqM6SFGGuCH",
        "outputId": "fa77f9a5-437e-4562-ef45-94d43a594d67"
      },
      "execution_count": 17,
      "outputs": [
        {
          "output_type": "stream",
          "name": "stdout",
          "text": [
            "Drive already mounted at /content/drive; to attempt to forcibly remount, call drive.mount(\"/content/drive\", force_remount=True).\n"
          ]
        }
      ]
    },
    {
      "cell_type": "code",
      "source": [
        "path_numpy = '/content/drive/MyDrive/felin/np_felin'\n",
        "\n",
        "X = np.load(path_numpy + \"/images.npy\")\n",
        "y = np.load(path_numpy + \"/labels.npy\")\n",
        "\n",
        "X_train, X_test, y_train, y_test = train_test_split(X, y, test_size=0.2, random_state=42)"
      ],
      "metadata": {
        "id": "h0csnEdfBjRN"
      },
      "execution_count": 18,
      "outputs": []
    },
    {
      "cell_type": "code",
      "execution_count": null,
      "metadata": {
        "id": "jtmzHAQjlpcJ"
      },
      "outputs": [],
      "source": [
        "def displayGraph(pathLog,pathSaveGraph):\n",
        "    \"\"\"\n",
        "    # Fonction permettant de creer nos graph de suivi de metriques\n",
        "    :param pathLog: chemin du CSV contenant nos metrics\n",
        "    :param pathSaveGraph: chemin de destination pour sauvegarder nos 4 graphiques en jpg\n",
        "    \"\"\"\n",
        "\n",
        "    data = pd.read_csv(pathLog)\n",
        "    print(data.head(10))\n",
        "    # split into input (X) and output (Y) variables\n",
        "    plot(data['epoch'], data['accuracy'], data['val_accuracy'], 'TRAIN_VAL_Accuracy', 'Epoch', 'Accuracy', 'upper left',pathSaveGraph)\n",
        "    plot(data['epoch'], data['loss'], data['val_loss'], 'TRAIN_VAL_Loss', 'Epoch', 'Loss', 'upper left',pathSaveGraph)"
      ]
    },
    {
      "cell_type": "code",
      "execution_count": null,
      "metadata": {
        "id": "R5kp-q4VlpcK"
      },
      "outputs": [],
      "source": [
        "def plot(X, Y, Y2, title, xLabel, yLabel, legendLoc, pathSaveGraph):\n",
        "    \"\"\"\n",
        "    # Fonction d'affichage de graph\n",
        "    :param X: correspond au nombre d'époch\n",
        "    :param Y: correspond a la courbe accuracy\n",
        "    :param Y2: correspond a la courbe loss\n",
        "    :param title: titre du graphique\n",
        "    :param xLabel: label des abcisses\n",
        "    :param yLabel: label des ordonnees\n",
        "    :param legendLoc: legende\n",
        "    :param pathSaveGraph: chemin de sauvegarde pour les graphiques\n",
        "    \"\"\"\n",
        "\n",
        "   #On trace nos differentes courbes\n",
        "    plt.plot(Y)\n",
        "    plt.plot(Y2)\n",
        "   #titre du graph, legende...\n",
        "    plt.title(title)\n",
        "    plt.xlabel(xLabel)\n",
        "    plt.ylabel(yLabel)\n",
        "    plt.legend(['train', 'val'], loc=legendLoc)\n",
        "   #Pour avoir un courbe propre qui demarre à 0\n",
        "    plt.xlim(xmin=0.0, xmax=max(X))\n",
        "    plt.savefig(pathSaveGraph +'/' + title)\n",
        "    plt.figure()\n",
        "    #plt.show()"
      ]
    },
    {
      "cell_type": "code",
      "source": [
        "print(X_train.shape)\n",
        "print(X_test.shape)\n",
        "\n",
        "print(X_train[0].shape)\n",
        "print(X_test[0].shape)"
      ],
      "metadata": {
        "colab": {
          "base_uri": "https://localhost:8080/"
        },
        "id": "C9edf4qBF-jm",
        "outputId": "4042d7a9-9680-46b7-c9a6-2d451249b1b2"
      },
      "execution_count": 19,
      "outputs": [
        {
          "output_type": "stream",
          "name": "stdout",
          "text": [
            "(12208, 224, 224, 3)\n",
            "(3052, 224, 224, 3)\n",
            "(224, 224, 3)\n",
            "(224, 224, 3)\n"
          ]
        }
      ]
    },
    {
      "cell_type": "code",
      "source": [
        "dimension = X[0].shape"
      ],
      "metadata": {
        "id": "4UAPgMTUGzHX"
      },
      "execution_count": 20,
      "outputs": []
    },
    {
      "cell_type": "code",
      "source": [
        "model = keras.Sequential([ \n",
        "    keras.layers.Conv2D(32, kernel_size=(3, 3), activation='relu', \n",
        "        input_shape=(dimension[0], dimension[1], dimension[2])), \n",
        "    keras.layers.MaxPooling2D(),\n",
        "    keras.layers.BatchNormalization(),\n",
        "    keras.layers.Conv2D(64, kernel_size=(3, 3), activation='relu'),\n",
        "    keras.layers.MaxPooling2D(),\n",
        "    keras.layers.BatchNormalization(),\n",
        "    keras.layers.Conv2D(128, kernel_size=(3, 3), activation='relu'),\n",
        "    keras.layers.MaxPooling2D(),\n",
        "    keras.layers.BatchNormalization(),\n",
        "    keras.layers.Flatten(),\n",
        "    keras.layers.Dense(128, activation='relu'), \n",
        "    keras.layers.Dropout(0.5),\n",
        "    keras.layers.Dense(7, activation='Softmax') \n",
        "    ])\n",
        "model.compile(optimizer = 'adam', loss = 'SparseCategoricalCrossentropy', metrics=['accuracy'])"
      ],
      "metadata": {
        "id": "3UaHRXJFhBLi",
        "colab": {
          "base_uri": "https://localhost:8080/",
          "height": 235
        },
        "outputId": "f23f61b8-ae75-4a31-f787-692d01f6ee43"
      },
      "execution_count": null,
      "outputs": [
        {
          "output_type": "error",
          "ename": "NameError",
          "evalue": "ignored",
          "traceback": [
            "\u001b[0;31m---------------------------------------------------------------------------\u001b[0m",
            "\u001b[0;31mNameError\u001b[0m                                 Traceback (most recent call last)",
            "\u001b[0;32m<ipython-input-4-ad5fb40b5bfc>\u001b[0m in \u001b[0;36m<module>\u001b[0;34m\u001b[0m\n\u001b[1;32m      1\u001b[0m model = keras.Sequential([ \n\u001b[1;32m      2\u001b[0m     keras.layers.Conv2D(32, kernel_size=(3, 3), activation='relu', \n\u001b[0;32m----> 3\u001b[0;31m         input_shape=(dimension[0], dimension[1], dimension[2])), \n\u001b[0m\u001b[1;32m      4\u001b[0m     \u001b[0mkeras\u001b[0m\u001b[0;34m.\u001b[0m\u001b[0mlayers\u001b[0m\u001b[0;34m.\u001b[0m\u001b[0mMaxPooling2D\u001b[0m\u001b[0;34m(\u001b[0m\u001b[0;34m)\u001b[0m\u001b[0;34m,\u001b[0m\u001b[0;34m\u001b[0m\u001b[0;34m\u001b[0m\u001b[0m\n\u001b[1;32m      5\u001b[0m     \u001b[0mkeras\u001b[0m\u001b[0;34m.\u001b[0m\u001b[0mlayers\u001b[0m\u001b[0;34m.\u001b[0m\u001b[0mBatchNormalization\u001b[0m\u001b[0;34m(\u001b[0m\u001b[0;34m)\u001b[0m\u001b[0;34m,\u001b[0m\u001b[0;34m\u001b[0m\u001b[0;34m\u001b[0m\u001b[0m\n",
            "\u001b[0;31mNameError\u001b[0m: name 'dimension' is not defined"
          ]
        }
      ]
    },
    {
      "cell_type": "code",
      "source": [
        "early = keras.callbacks.EarlyStopping(monitor='val_loss', min_delta=0, patience=5, verbose=0, mode='auto')\n",
        "\n",
        "csv_logger = keras.callbacks.CSVLogger('./log_moModel.csv', append=True, separator=',')"
      ],
      "metadata": {
        "id": "dTfWVg8aHjgN"
      },
      "execution_count": null,
      "outputs": []
    },
    {
      "cell_type": "code",
      "source": [
        "model.fit(X_train, y_train, batch_size=16, epochs=100, validation_data=(X_test,y_test), callbacks=[early, csv_logger])"
      ],
      "metadata": {
        "id": "59EyvmtwhF01",
        "colab": {
          "base_uri": "https://localhost:8080/"
        },
        "outputId": "2b9f9e35-bc46-4b89-9245-4b67ce89ecc2"
      },
      "execution_count": null,
      "outputs": [
        {
          "output_type": "stream",
          "name": "stdout",
          "text": [
            "Epoch 1/100\n",
            "763/763 [==============================] - 33s 32ms/step - loss: 5.5780 - accuracy: 0.2208 - val_loss: 1.8015 - val_accuracy: 0.2923\n",
            "Epoch 2/100\n",
            "763/763 [==============================] - 25s 33ms/step - loss: 1.8214 - accuracy: 0.2575 - val_loss: 1.7202 - val_accuracy: 0.3545\n",
            "Epoch 3/100\n",
            "763/763 [==============================] - 24s 31ms/step - loss: 1.7415 - accuracy: 0.2891 - val_loss: 1.8092 - val_accuracy: 0.3522\n",
            "Epoch 4/100\n",
            "763/763 [==============================] - 25s 32ms/step - loss: 1.6593 - accuracy: 0.3112 - val_loss: 1.5671 - val_accuracy: 0.4037\n",
            "Epoch 5/100\n",
            "763/763 [==============================] - 25s 32ms/step - loss: 1.6169 - accuracy: 0.3368 - val_loss: 1.4567 - val_accuracy: 0.4371\n",
            "Epoch 6/100\n",
            "763/763 [==============================] - 24s 31ms/step - loss: 1.5724 - accuracy: 0.3624 - val_loss: 1.4531 - val_accuracy: 0.4404\n",
            "Epoch 7/100\n",
            "763/763 [==============================] - 24s 31ms/step - loss: 1.5214 - accuracy: 0.3899 - val_loss: 1.5587 - val_accuracy: 0.4174\n",
            "Epoch 8/100\n",
            "763/763 [==============================] - 24s 31ms/step - loss: 1.4428 - accuracy: 0.4092 - val_loss: 2.0187 - val_accuracy: 0.3820\n",
            "Epoch 9/100\n",
            "763/763 [==============================] - 25s 32ms/step - loss: 1.3837 - accuracy: 0.4345 - val_loss: 1.2923 - val_accuracy: 0.5088\n",
            "Epoch 10/100\n",
            "763/763 [==============================] - 23s 31ms/step - loss: 1.3735 - accuracy: 0.4423 - val_loss: 1.4470 - val_accuracy: 0.4440\n",
            "Epoch 11/100\n",
            "763/763 [==============================] - 25s 33ms/step - loss: 1.3198 - accuracy: 0.4713 - val_loss: 1.4608 - val_accuracy: 0.4315\n",
            "Epoch 12/100\n",
            "763/763 [==============================] - 24s 31ms/step - loss: 1.2808 - accuracy: 0.4812 - val_loss: 1.2471 - val_accuracy: 0.5711\n",
            "Epoch 13/100\n",
            "763/763 [==============================] - 24s 31ms/step - loss: 1.2155 - accuracy: 0.5151 - val_loss: 1.2679 - val_accuracy: 0.5881\n",
            "Epoch 14/100\n",
            "763/763 [==============================] - 25s 32ms/step - loss: 1.1724 - accuracy: 0.5316 - val_loss: 1.2111 - val_accuracy: 0.5740\n",
            "Epoch 15/100\n",
            "763/763 [==============================] - 23s 31ms/step - loss: 1.1356 - accuracy: 0.5444 - val_loss: 7.0331 - val_accuracy: 0.4086\n",
            "Epoch 16/100\n",
            "763/763 [==============================] - 24s 31ms/step - loss: 1.1293 - accuracy: 0.5429 - val_loss: 1.1282 - val_accuracy: 0.6052\n",
            "Epoch 17/100\n",
            "763/763 [==============================] - 25s 33ms/step - loss: 1.0886 - accuracy: 0.5599 - val_loss: 1.0226 - val_accuracy: 0.6438\n",
            "Epoch 18/100\n",
            "763/763 [==============================] - 24s 31ms/step - loss: 1.0730 - accuracy: 0.5729 - val_loss: 1.1848 - val_accuracy: 0.6219\n",
            "Epoch 19/100\n",
            "763/763 [==============================] - 25s 32ms/step - loss: 1.0505 - accuracy: 0.5829 - val_loss: 1.1454 - val_accuracy: 0.5967\n",
            "Epoch 20/100\n",
            "763/763 [==============================] - 23s 31ms/step - loss: 1.0193 - accuracy: 0.5976 - val_loss: 1.1767 - val_accuracy: 0.6465\n",
            "Epoch 21/100\n",
            "763/763 [==============================] - 24s 31ms/step - loss: 1.0112 - accuracy: 0.5984 - val_loss: 1.0803 - val_accuracy: 0.6537\n",
            "Epoch 22/100\n",
            "763/763 [==============================] - 24s 31ms/step - loss: 0.9779 - accuracy: 0.6119 - val_loss: 1.1049 - val_accuracy: 0.6356\n"
          ]
        },
        {
          "output_type": "execute_result",
          "data": {
            "text/plain": [
              "<keras.callbacks.History at 0x7f37b06df460>"
            ]
          },
          "metadata": {},
          "execution_count": 12
        }
      ]
    },
    {
      "cell_type": "code",
      "source": [
        "#Definition des chemins d'acces a notre fichier log\n",
        "pathLogs = '/content/log_moModel.csv' \n",
        "pathSaveGraph = '/content'\n",
        "displayGraph(pathLogs, pathSaveGraph)\n"
      ],
      "metadata": {
        "colab": {
          "base_uri": "https://localhost:8080/",
          "height": 781
        },
        "id": "wfYH4exOiis9",
        "outputId": "4a81a853-59db-45d5-8d62-9498c342ca64"
      },
      "execution_count": null,
      "outputs": [
        {
          "output_type": "stream",
          "name": "stdout",
          "text": [
            "   epoch  accuracy      loss  val_accuracy  val_loss\n",
            "0      0  0.204210  5.706079      0.198231  1.998181\n",
            "1      1  0.184142  1.944530      0.214286  1.910743\n",
            "2      2  0.198313  1.901627      0.210354  1.996956\n",
            "3      3  0.193234  1.870250      0.195282  1.967657\n",
            "4      4  0.192824  1.851290      0.204456  1.860765\n",
            "5      5  0.201098  1.862384      0.244758  1.784047\n",
            "6      6  0.202163  1.842656      0.202490  1.882264\n",
            "7      7  0.211173  1.817503      0.230341  1.784783\n",
            "8      8  0.204456  1.850559      0.193971  1.936730\n",
            "9      9  0.205357  1.835344      0.207405  1.940315\n"
          ]
        },
        {
          "output_type": "display_data",
          "data": {
            "text/plain": [
              "<Figure size 432x288 with 1 Axes>"
            ],
            "image/png": "[encoded data removed]"
          },
          "metadata": {
            "needs_background": "light"
          }
        },
        {
          "output_type": "display_data",
          "data": {
            "text/plain": [
              "<Figure size 432x288 with 1 Axes>"
            ],
            "image/png": "[encoded data removed]"
          },
          "metadata": {
            "needs_background": "light"
          }
        },
        {
          "output_type": "display_data",
          "data": {
            "text/plain": [
              "<Figure size 432x288 with 0 Axes>"
            ]
          },
          "metadata": {}
        }
      ]
    },
    {
      "cell_type": "code",
      "source": [
        "model.summary()"
      ],
      "metadata": {
        "colab": {
          "base_uri": "https://localhost:8080/"
        },
        "id": "Xm95lDb6pQ8Z",
        "outputId": "37ebd341-b452-4f3c-c408-8f39684132f6"
      },
      "execution_count": null,
      "outputs": [
        {
          "output_type": "stream",
          "name": "stdout",
          "text": [
            "Model: \"sequential\"\n",
            "_________________________________________________________________\n",
            " Layer (type)                Output Shape              Param #   \n",
            "=================================================================\n",
            " conv2d (Conv2D)             (None, 218, 218, 32)      896       \n",
            "                                                                 \n",
            " max_pooling2d (MaxPooling2D  (None, 109, 109, 32)     0         \n",
            " )                                                               \n",
            "                                                                 \n",
            " batch_normalization (BatchN  (None, 109, 109, 32)     128       \n",
            " ormalization)                                                   \n",
            "                                                                 \n",
            " conv2d_1 (Conv2D)           (None, 107, 107, 64)      18496     \n",
            "                                                                 \n",
            " max_pooling2d_1 (MaxPooling  (None, 53, 53, 64)       0         \n",
            " 2D)                                                             \n",
            "                                                                 \n",
            " batch_normalization_1 (Batc  (None, 53, 53, 64)       256       \n",
            " hNormalization)                                                 \n",
            "                                                                 \n",
            " conv2d_2 (Conv2D)           (None, 51, 51, 128)       73856     \n",
            "                                                                 \n",
            " max_pooling2d_2 (MaxPooling  (None, 25, 25, 128)      0         \n",
            " 2D)                                                             \n",
            "                                                                 \n",
            " batch_normalization_2 (Batc  (None, 25, 25, 128)      512       \n",
            " hNormalization)                                                 \n",
            "                                                                 \n",
            " flatten (Flatten)           (None, 80000)             0         \n",
            "                                                                 \n",
            " dense (Dense)               (None, 128)               10240128  \n",
            "                                                                 \n",
            " dropout (Dropout)           (None, 128)               0         \n",
            "                                                                 \n",
            " dense_1 (Dense)             (None, 7)                 903       \n",
            "                                                                 \n",
            "=================================================================\n",
            "Total params: 10,335,175\n",
            "Trainable params: 10,334,727\n",
            "Non-trainable params: 448\n",
            "_________________________________________________________________\n"
          ]
        }
      ]
    },
    {
      "cell_type": "code",
      "source": [
        "augm = ImageDataGenerator(\n",
        "        rotation_range = 35,\n",
        "        width_shift_range = 0.2,\n",
        "        height_shift_range = 0.2,\n",
        "        shear_range = 0.2,\n",
        "        zoom_range = 0.2,\n",
        "        horizontal_flip = True,\n",
        "        fill_mode = 'nearest')\n",
        "augm.fit(X_train)"
      ],
      "metadata": {
        "id": "K3f_UfA_eofR"
      },
      "execution_count": null,
      "outputs": []
    },
    {
      "cell_type": "code",
      "source": [
        "model.fit_generator(augm.flow(X_train, y_train, batch_size=32),\n",
        "                    epochs=50,\n",
        "                    validation_data=(X_test, y_test),\n",
        "                    callbacks=[early, csv_logger])"
      ],
      "metadata": {
        "id": "0BnRb_L9F0yP"
      },
      "execution_count": null,
      "outputs": []
    },
    {
      "cell_type": "code",
      "execution_count": 21,
      "metadata": {
        "id": "eMzDJtrPlpcI",
        "colab": {
          "base_uri": "https://localhost:8080/"
        },
        "outputId": "fe4262d5-af45-438e-dbfc-1acf5a645a29"
      },
      "outputs": [
        {
          "output_type": "stream",
          "name": "stdout",
          "text": [
            "Downloading data from https://storage.googleapis.com/tensorflow/keras-applications/nasnet/NASNet-mobile-no-top.h5\n",
            "19993432/19993432 [==============================] - 0s 0us/step\n"
          ]
        }
      ],
      "source": [
        "pretrained_model = NASNetMobile(weights='imagenet', include_top=False, input_shape=(dimension[0], dimension[1], dimension[2]))"
      ]
    },
    {
      "cell_type": "code",
      "source": [
        "for layer in pretrained_model.layers:\n",
        "    layer.trainable = False"
      ],
      "metadata": {
        "id": "foddU8B3h0Wi"
      },
      "execution_count": 22,
      "outputs": []
    },
    {
      "cell_type": "code",
      "source": [
        "model2 = keras.Sequential([\n",
        "    pretrained_model,\n",
        "    keras.layers.GlobalAveragePooling2D(),\n",
        "    keras.layers.Dense(128, activation='relu'),\n",
        "    keras.layers.Dense(7, activation='softmax')\n",
        "])"
      ],
      "metadata": {
        "id": "ZWhaQBEmk6do"
      },
      "execution_count": 23,
      "outputs": []
    },
    {
      "cell_type": "code",
      "source": [
        "model2.compile(optimizer='adam', loss='sparse_categorical_crossentropy', metrics=['accuracy'])\n"
      ],
      "metadata": {
        "id": "GoYAAZbElDtc"
      },
      "execution_count": 24,
      "outputs": []
    },
    {
      "cell_type": "code",
      "source": [
        "history2 = model2.fit(X_train, y_train, epochs=10, validation_data=(X_test, y_test))\n"
      ],
      "metadata": {
        "id": "y3Cit0kBlF0o",
        "colab": {
          "base_uri": "https://localhost:8080/"
        },
        "outputId": "dd6959eb-73de-4b49-ff42-e7f7c5bc22a3"
      },
      "execution_count": 27,
      "outputs": [
        {
          "output_type": "stream",
          "name": "stdout",
          "text": [
            "Epoch 1/10\n",
            "382/382 [==============================] - 1342s 3s/step - loss: 1.8983 - accuracy: 0.3147 - val_loss: 1.7341 - val_accuracy: 0.3591\n",
            "Epoch 2/10\n",
            "382/382 [==============================] - 1284s 3s/step - loss: 1.6281 - accuracy: 0.3807 - val_loss: 1.5828 - val_accuracy: 0.3994\n",
            "Epoch 3/10\n",
            "382/382 [==============================] - 1289s 3s/step - loss: 1.5463 - accuracy: 0.4073 - val_loss: 1.5852 - val_accuracy: 0.3938\n",
            "Epoch 4/10\n",
            "382/382 [==============================] - 1286s 3s/step - loss: 1.5045 - accuracy: 0.4264 - val_loss: 1.5953 - val_accuracy: 0.3919\n",
            "Epoch 5/10\n",
            "382/382 [==============================] - 1289s 3s/step - loss: 1.4652 - accuracy: 0.4434 - val_loss: 1.5439 - val_accuracy: 0.4273\n",
            "Epoch 6/10\n",
            "382/382 [==============================] - 1289s 3s/step - loss: 1.4238 - accuracy: 0.4532 - val_loss: 1.5463 - val_accuracy: 0.4315\n",
            "Epoch 7/10\n",
            "382/382 [==============================] - 1293s 3s/step - loss: 1.3978 - accuracy: 0.4667 - val_loss: 1.5512 - val_accuracy: 0.4286\n",
            "Epoch 8/10\n",
            "382/382 [==============================] - 1303s 3s/step - loss: 1.3595 - accuracy: 0.4816 - val_loss: 1.5846 - val_accuracy: 0.4260\n",
            "Epoch 9/10\n",
            "382/382 [==============================] - 1302s 3s/step - loss: 1.3450 - accuracy: 0.4875 - val_loss: 1.5726 - val_accuracy: 0.4256\n",
            "Epoch 10/10\n",
            "382/382 [==============================] - 1299s 3s/step - loss: 1.3101 - accuracy: 0.5022 - val_loss: 1.5669 - val_accuracy: 0.4299\n"
          ]
        }
      ]
    },
    {
      "cell_type": "code",
      "source": [
        "accuracy = history2.history[\"accuracy\"]\n",
        "val_accuracy = history2.history[\"val_accuracy\"]\n",
        "loss = history2.history[\"loss\"]\n",
        "val_loss = history2.history[\"val_loss\"]\n",
        "epochs = range(1, len(accuracy) + 1)\n",
        "plt.plot(epochs, accuracy, label=\"Training accuracy\")\n",
        "plt.plot(epochs, val_accuracy, label=\"Validation accuracy\")\n",
        "plt.title(\"Training and validation accuracy\")\n",
        "plt.legend()\n",
        "plt.figure()\n",
        "plt.plot(epochs, loss, label=\"Training loss\")\n",
        "plt.plot(epochs, val_loss, label=\"Validation loss\")\n",
        "plt.title(\"Training and validation loss\")\n",
        "plt.legend()\n",
        "plt.show()"
      ],
      "metadata": {
        "colab": {
          "base_uri": "https://localhost:8080/",
          "height": 545
        },
        "id": "_fN7Aw20rksN",
        "outputId": "4bef5eb7-876c-4cd4-c1b8-6e89ef4ef719"
      },
      "execution_count": 28,
      "outputs": [
        {
          "output_type": "display_data",
          "data": {
            "text/plain": [
              "<Figure size 432x288 with 1 Axes>"
            ],
            "image/png": "[encoded data removed]"
          },
          "metadata": {
            "needs_background": "light"
          }
        },
        {
          "output_type": "display_data",
          "data": {
            "text/plain": [
              "<Figure size 432x288 with 1 Axes>"
            ],
            "image/png": "[encoded data removed]"
          },
          "metadata": {
            "needs_background": "light"
          }
        }
      ]
    },
    {
      "cell_type": "code",
      "source": [],
      "metadata": {
        "id": "G6my95ihvRzl"
      },
      "execution_count": null,
      "outputs": []
    }
  ],
  "metadata": {
    "kernelspec": {
      "display_name": "venv",
      "language": "python",
      "name": "python3"
    },
    "language_info": {
      "codemirror_mode": {
        "name": "ipython",
        "version": 3
      },
      "file_extension": ".py",
      "mimetype": "text/x-python",
      "name": "python",
      "nbconvert_exporter": "python",
      "pygments_lexer": "ipython3",
      "version": "3.10.9"
    },
    "orig_nbformat": 4,
    "vscode": {
      "interpreter": {
        "hash": "f264b1e1bee58e6d24695295e2f01f361c555462419d5e726275c2bfc39820f8"
      }
    },
    "colab": {
      "provenance": []
    },
    "accelerator": "GPU",
    "gpuClass": "standard"
  },
  "nbformat": 4,
  "nbformat_minor": 0
}